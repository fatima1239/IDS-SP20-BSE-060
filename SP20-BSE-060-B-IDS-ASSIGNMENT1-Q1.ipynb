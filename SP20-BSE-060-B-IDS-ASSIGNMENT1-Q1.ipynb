{
  "nbformat": 4,
  "nbformat_minor": 0,
  "metadata": {
    "colab": {
      "provenance": []
    },
    "kernelspec": {
      "name": "python3",
      "display_name": "Python 3"
    },
    "language_info": {
      "name": "python"
    }
  },
  "cells": [
    {
      "cell_type": "code",
      "execution_count": 2,
      "metadata": {
        "colab": {
          "base_uri": "https://localhost:8080/",
          "height": 522
        },
        "id": "v1z6N-jJxC2f",
        "outputId": "7d57c299-5a7e-4f4c-e32a-f9c98049974b"
      },
      "outputs": [
        {
          "output_type": "stream",
          "name": "stdout",
          "text": [
            "Requirement already satisfied: beautifulsoup4 in /usr/local/lib/python3.10/dist-packages (4.11.2)\n",
            "Requirement already satisfied: requests in /usr/local/lib/python3.10/dist-packages (2.31.0)\n",
            "Requirement already satisfied: openpyxl in /usr/local/lib/python3.10/dist-packages (3.1.2)\n",
            "Requirement already satisfied: soupsieve>1.2 in /usr/local/lib/python3.10/dist-packages (from beautifulsoup4) (2.5)\n",
            "Requirement already satisfied: charset-normalizer<4,>=2 in /usr/local/lib/python3.10/dist-packages (from requests) (3.2.0)\n",
            "Requirement already satisfied: idna<4,>=2.5 in /usr/local/lib/python3.10/dist-packages (from requests) (3.4)\n",
            "Requirement already satisfied: urllib3<3,>=1.21.1 in /usr/local/lib/python3.10/dist-packages (from requests) (2.0.4)\n",
            "Requirement already satisfied: certifi>=2017.4.17 in /usr/local/lib/python3.10/dist-packages (from requests) (2023.7.22)\n",
            "Requirement already satisfied: et-xmlfile in /usr/local/lib/python3.10/dist-packages (from openpyxl) (1.1.0)\n"
          ]
        },
        {
          "output_type": "error",
          "ename": "AttributeError",
          "evalue": "ignored",
          "traceback": [
            "\u001b[0;31m---------------------------------------------------------------------------\u001b[0m",
            "\u001b[0;31mAttributeError\u001b[0m                            Traceback (most recent call last)",
            "\u001b[0;32m<ipython-input-2-0791d4accb9d>\u001b[0m in \u001b[0;36m<cell line: 26>\u001b[0;34m()\u001b[0m\n\u001b[1;32m     25\u001b[0m \u001b[0mmovie_data\u001b[0m \u001b[0;34m=\u001b[0m \u001b[0;34m[\u001b[0m\u001b[0;34m]\u001b[0m\u001b[0;34m\u001b[0m\u001b[0;34m\u001b[0m\u001b[0m\n\u001b[1;32m     26\u001b[0m \u001b[0;32mfor\u001b[0m \u001b[0murl\u001b[0m \u001b[0;32min\u001b[0m \u001b[0mmovie_urls\u001b[0m\u001b[0;34m:\u001b[0m\u001b[0;34m\u001b[0m\u001b[0;34m\u001b[0m\u001b[0m\n\u001b[0;32m---> 27\u001b[0;31m     \u001b[0mmovie_info\u001b[0m \u001b[0;34m=\u001b[0m \u001b[0mscrape_movie_info\u001b[0m\u001b[0;34m(\u001b[0m\u001b[0murl\u001b[0m\u001b[0;34m)\u001b[0m\u001b[0;34m\u001b[0m\u001b[0;34m\u001b[0m\u001b[0m\n\u001b[0m\u001b[1;32m     28\u001b[0m     \u001b[0mmovie_data\u001b[0m\u001b[0;34m.\u001b[0m\u001b[0mappend\u001b[0m\u001b[0;34m(\u001b[0m\u001b[0mmovie_info\u001b[0m\u001b[0;34m)\u001b[0m\u001b[0;34m\u001b[0m\u001b[0;34m\u001b[0m\u001b[0m\n\u001b[1;32m     29\u001b[0m \u001b[0;31m# Create a new Excel workbook\u001b[0m\u001b[0;34m\u001b[0m\u001b[0;34m\u001b[0m\u001b[0m\n",
            "\u001b[0;32m<ipython-input-2-0791d4accb9d>\u001b[0m in \u001b[0;36mscrape_movie_info\u001b[0;34m(url)\u001b[0m\n\u001b[1;32m     19\u001b[0m \u001b[0;34m\u001b[0m\u001b[0m\n\u001b[1;32m     20\u001b[0m     \u001b[0mtitle\u001b[0m \u001b[0;34m=\u001b[0m \u001b[0msoup\u001b[0m\u001b[0;34m.\u001b[0m\u001b[0mfind\u001b[0m\u001b[0;34m(\u001b[0m\u001b[0;34m'h1'\u001b[0m\u001b[0;34m)\u001b[0m\u001b[0;34m.\u001b[0m\u001b[0mtext\u001b[0m\u001b[0;34m.\u001b[0m\u001b[0mstrip\u001b[0m\u001b[0;34m(\u001b[0m\u001b[0;34m)\u001b[0m\u001b[0;34m\u001b[0m\u001b[0;34m\u001b[0m\u001b[0m\n\u001b[0;32m---> 21\u001b[0;31m     \u001b[0mrating\u001b[0m \u001b[0;34m=\u001b[0m \u001b[0msoup\u001b[0m\u001b[0;34m.\u001b[0m\u001b[0mfind\u001b[0m\u001b[0;34m(\u001b[0m\u001b[0;34m'span'\u001b[0m\u001b[0;34m,\u001b[0m \u001b[0mitemprop\u001b[0m\u001b[0;34m=\u001b[0m\u001b[0;34m'ratingValue'\u001b[0m\u001b[0;34m)\u001b[0m\u001b[0;34m.\u001b[0m\u001b[0mtext\u001b[0m\u001b[0;34m.\u001b[0m\u001b[0mstrip\u001b[0m\u001b[0;34m(\u001b[0m\u001b[0;34m)\u001b[0m\u001b[0;34m\u001b[0m\u001b[0;34m\u001b[0m\u001b[0m\n\u001b[0m\u001b[1;32m     22\u001b[0m \u001b[0;34m\u001b[0m\u001b[0m\n\u001b[1;32m     23\u001b[0m     \u001b[0;32mreturn\u001b[0m \u001b[0;34m{\u001b[0m\u001b[0;34m'Title'\u001b[0m\u001b[0;34m:\u001b[0m \u001b[0mtitle\u001b[0m\u001b[0;34m,\u001b[0m \u001b[0;34m'Rating'\u001b[0m\u001b[0;34m:\u001b[0m \u001b[0mrating\u001b[0m\u001b[0;34m}\u001b[0m\u001b[0;34m\u001b[0m\u001b[0;34m\u001b[0m\u001b[0m\n",
            "\u001b[0;31mAttributeError\u001b[0m: 'NoneType' object has no attribute 'text'"
          ]
        }
      ],
      "source": [
        "!pip install beautifulsoup4 requests openpyxl\n",
        "\n",
        "import requests\n",
        "from bs4 import BeautifulSoup\n",
        "import time\n",
        "import openpyxl\n",
        "\n",
        "movie_urls = [\n",
        "    'https://www.imdb.com/title/tt0111161/',  # Example URL 1\n",
        "    'https://www.imdb.com/title/tt0468569/',  # Example URL 2\n",
        "    'https://www.imdb.com/title/tt1375666/',  # Example URL 3\n",
        "    'https://www.imdb.com/title/tt0133093/',  # Example URL 4\n",
        "    'https://www.imdb.com/title/tt0816692/'   # Example URL 5\n",
        "]\n",
        "def scrape_movie_info(url):\n",
        "    response = requests.get(url)\n",
        "    time.sleep(1)  # Sleep for 1 second to avoid overloading IMDB's servers\n",
        "    soup = BeautifulSoup(response.text, 'html.parser')\n",
        "\n",
        "    title = soup.find('h1').text.strip()\n",
        "    rating = soup.find('span', itemprop='ratingValue').text.strip()\n",
        "\n",
        "    return {'Title': title, 'Rating': rating}\n",
        "\n",
        "movie_data = []\n",
        "for url in movie_urls:\n",
        "    movie_info = scrape_movie_info(url)\n",
        "    movie_data.append(movie_info)\n",
        "# Create a new Excel workbook\n",
        "wb = openpyxl.Workbook()\n",
        "ws = wb.active\n",
        "\n",
        "# Set the column headers\n",
        "ws['A1'] = 'Title'\n",
        "ws['B1'] = 'Rating'\n",
        "\n",
        "# Write the movie data to the Excel file\n",
        "for idx, movie_info in enumerate(movie_data, start=2):\n",
        "    ws[f'A{idx}'] = movie_info['Title']\n",
        "    ws[f'B{idx}'] = movie_info['Rating']\n",
        "\n",
        "# Save the Excel file\n",
        "wb.save('favorite_movies.xlsx')\n",
        "\n"
      ]
    },
    {
      "cell_type": "code",
      "source": [
        "import requests\n",
        "from bs4 import BeautifulSoup\n",
        "import time\n",
        "import openpyxl\n",
        "\n",
        "# Create a list of movie URLs for your favorite movies on IMDB\n",
        "movie_urls = [\n",
        "    'https://www.imdb.com/title/tt0111161/',  # Example URL 1\n",
        "    'https://www.imdb.com/title/tt0468569/',  # Example URL 2\n",
        "    'https://www.imdb.com/title/tt1375666/',  # Example URL 3\n",
        "    'https://www.imdb.com/title/tt0133093/',  # Example URL 4\n",
        "    'https://www.imdb.com/title/tt0816692/'   # Example URL 5\n",
        "]\n",
        "\n",
        "# Create a function to scrape the title and rating for each movie\n",
        "def scrape_movie_info(url):\n",
        "    response = requests.get(url)\n",
        "    time.sleep(1)  # Sleep for 1 second to avoid overloading IMDB's servers\n",
        "    soup = BeautifulSoup(response.text, 'html.parser')\n",
        "\n",
        "    # Initialize title and rating to handle cases where the elements are not found\n",
        "    title = \"N/A\"\n",
        "    rating = \"N/A\"\n",
        "\n",
        "    # Find the title element\n",
        "    title_element = soup.find('h1')\n",
        "    if title_element:\n",
        "        title = title_element.text.strip()\n",
        "\n",
        "    # Find the rating element\n",
        "    rating_element = soup.find('span', itemprop='ratingValue')\n",
        "    if rating_element:\n",
        "        rating = rating_element.text.strip()\n",
        "\n",
        "    return {'Title': title, 'Rating': rating}\n",
        "\n",
        "# Loop through the list of movie URLs, scrape the data, and store it in a list\n",
        "movie_data = []\n",
        "for url in movie_urls:\n",
        "    movie_info = scrape_movie_info(url)\n",
        "    movie_data.append(movie_info)\n",
        "\n",
        "# Create an Excel file and write the scraped data to it\n",
        "wb = openpyxl.Workbook()\n",
        "ws = wb.active\n",
        "ws['A1'] = 'Title'\n",
        "ws['B1'] = 'Rating'\n",
        "\n",
        "for idx, movie_info in enumerate(movie_data, start=2):\n",
        "    ws[f'A{idx}'] = movie_info['Title']\n",
        "    ws[f'B{idx}'] = movie_info['Rating']\n",
        "\n",
        "# Save the Excel file\n",
        "wb.save('favorite_movies.xlsx')\n"
      ],
      "metadata": {
        "id": "O6QK8QRZy16X"
      },
      "execution_count": 3,
      "outputs": []
    }
  ]
}