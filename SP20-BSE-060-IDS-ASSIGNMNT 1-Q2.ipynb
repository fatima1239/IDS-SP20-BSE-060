{
  "cells": [
    {
      "cell_type": "code",
      "execution_count": 36,
      "metadata": {
        "colab": {
          "base_uri": "https://localhost:8080/"
        },
        "id": "6qe3Lw55_WNy",
        "outputId": "2d20844c-0d96-4f1e-8768-9f34219b9ebc"
      },
      "outputs": [
        {
          "name": "stdout",
          "output_type": "stream",
          "text": [
            "Events on May 11th according to Britannica:\n",
            "\n",
            "1. Scottish-born British politician Gordon Brown officially resigned as prime minister of the United Kingdom, ending 13 years of Labour Party rule. Test your knowledge of British culture and politics© Gordon Brown\n",
            "\n",
            "2. IBM's chess-playing computer Deep Blue defeated Garry Kasparov in the last game of a six-game match to claim a 3.5–2.5 victory (it won two games and had three draws); it marked the first time a current world champion had lost a match to a computer under tournament conditions. Sort fact from fiction in our quiz about chessAdam Nadel/AP Images\n",
            "\n",
            "3. Jamaican reggae star Bob Marley died of cancer at age 36. Test your knowledge of reggaeHulton Archive/Getty Images\n",
            "\n",
            "4. Some 14 years after escaping from a prison camp, former Nazi official Adolf Eichmann was captured by Israeli intelligence agents near Buenos Aires; he was later taken to Israel, where he was tried, convicted, and executed. Take our quiz about Nazi officialsCentral Zionist Archives, courtesy of USHMM Photo Archives\n",
            "\n",
            "5. During World War II, U.S. troops invaded Attu, one of the Aleutian Islands captured by the Japanese in 1942. How much do you know about World War II?U.S. Navy\n",
            "\n",
            "6. American theoretical physicist Richard Feynman was born in New York City. Sort fact from fiction in our physics quizHarvey of Pasadena\n",
            "\n",
            "7. Glacier National Park was established in the Rocky Mountain wilderness of northwestern Montana. Take our quiz about national parks and landmarksRobert Glusic/Getty Images\n",
            "\n",
            "8. Railroad workers for the Pullman Palace Car Company went on strike, and the protest continued for several months until the federal government intervened.Library of Congress, Washington, D.C.\n",
            "\n",
            "9. American composer Irving Berlin, who played a leading role in the evolution of the popular song from the early ragtime and jazz eras through the golden age of musicals, was born in Russia. Test your knowledge of composers Encyclopædia Britannica, Inc.\n",
            "\n",
            "10. American jazz cornetist King Oliver was born in Abend, Louisiana. Take our quiz about musiciansFrank Driggs Collection/Archive Photos\n",
            "\n",
            "11. U.S. President James K. Polk asked Congress to declare war on Mexico. How much do you know about military history?Library of Congress, Washington, D.C.\n",
            "\n",
            "12. Conjoined twins Chang and Eng, who gained worldwide fame in the 19th century, were born in Meklong, Siam (Thailand).The Granger Collection, New York\n",
            "\n",
            "Important events on my birthdate (May 11th) from 'timeanddate' website:\n",
            "\n",
            "- Richard\n",
            "- Salvador\n",
            "- Irving\n",
            "- Frederick\n",
            "- Walter\n",
            "\n",
            "\n"
          ]
        }
      ],
      "source": [
        "# 18-09-2023\n",
        "# CSC461 – Assignment1 – Web Scraping\n",
        "# Fatima Kazmi\n",
        "# SP20-BSE-060\n",
        "# this code fetches data of my date of birth and important events and personalities list born on same day and it fetches all this data from two websites\n",
        "\n",
        "\n",
        "import requests\n",
        "from bs4 import BeautifulSoup\n",
        "\n",
        "\n",
        "\n",
        "# Define the URL for the \"Britannica\" website\n",
        "url_britannica = \"https://www.britannica.com/on-this-day/May-11\"\n",
        "\n",
        "# Send an HTTP GET request to the \"Britannica\" URL with headers\n",
        "page_britannica = requests.get(url_britannica, headers={\"User-Agent\": \"Mozilla/5.0\"})\n",
        "\n",
        "# Parse the HTML content of the page\n",
        "soup_britannica = BeautifulSoup(page_britannica.content, \"html.parser\")\n",
        "\n",
        "# Find the container div for events\n",
        "events_container = soup_britannica.find(\"div\", class_=\"border-top py-30\")\n",
        "\n",
        "# Find all divs containing event details\n",
        "event_divs = events_container.find_all(\"div\", class_=\"card-body font-serif\")\n",
        "\n",
        "# Initialize an empty list to store event descriptions\n",
        "events_descriptions = []\n",
        "\n",
        "# Iterate through event divs and extract event descriptions\n",
        "for event_div in event_divs:\n",
        "    event_description = event_div.text.strip()\n",
        "    events_descriptions.append(event_description)\n",
        "\n",
        "# Print the events with proper numbering and formatting\n",
        "print(\"Events on May 11th according to Britannica:\\n\")\n",
        "for i, event_description in enumerate(events_descriptions, 1):\n",
        "    print(f\"{i}. {event_description}\\n\")\n",
        "\n",
        "    # Define the URL for the \"timeanddate\" website\n",
        "url_timeanddate = 'https://www.timeanddate.com/on-this-day/may/11'\n",
        "\n",
        "print(\"Important events on my birthdate (May 11th) from 'timeanddate' website:\\n\")\n",
        "event_page = requests.get(url_timeanddate, headers={\"User-Agent\": 'Mozilla/5.0'})\n",
        "soup_event = BeautifulSoup(event_page.content, \"html.parser\")\n",
        "\n",
        "# Find the event block container\n",
        "event_block = soup_event.find(\"div\", class_=\"otd-life__block\")\n",
        "event_list = event_block.find(\"ul\")\n",
        "\n",
        "# Initialize a list to store event names\n",
        "event_names = []\n",
        "\n",
        "# Find and extract event names\n",
        "h3_events = event_list.find_all(\"h3\")\n",
        "for h3 in h3_events:\n",
        "    event_name = h3.text.split(\" \")[1]\n",
        "    event_names.append(event_name)\n",
        "    print(f\"- {event_name}\")\n",
        "\n",
        "print(\"\\n\")\n"
      ]
    }
  ],
  "metadata": {
    "colab": {
      "provenance": []
    },
    "kernelspec": {
      "display_name": "Python 3",
      "name": "python3"
    },
    "language_info": {
      "name": "python"
    }
  },
  "nbformat": 4,
  "nbformat_minor": 0
}
