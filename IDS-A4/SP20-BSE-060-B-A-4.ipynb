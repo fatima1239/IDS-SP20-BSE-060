{
  "cells": [
    {
      "cell_type": "code",
      "execution_count": 1,
      "metadata": {
        "colab": {
          "base_uri": "https://localhost:8080/"
        },
        "id": "v5UnwMmu_sQ-",
        "outputId": "92ebcd32-2c1c-4641-ca8c-76e269eddb10"
      },
      "outputs": [
        {
          "name": "stdout",
          "output_type": "stream",
          "text": [
            "Bag of Words (BoW) Matrix:\n",
            "   analysis  best  computer  courses  data  important  in  is  most  of  one  \\\n",
            "0         0     0         1        1     1          1   1   1     1   1    1   \n",
            "1         0     1         0        1     1          0   0   1     0   1    1   \n",
            "2         1     0         0        0     2          0   0   0     0   0    0   \n",
            "\n",
            "   perform  science  scientists  the  this  \n",
            "0        0        2           0    1     0  \n",
            "1        0        1           0    1     1  \n",
            "2        1        0           1    1     0  \n",
            "\n",
            "Term Frequency (TF) Matrix:\n",
            "   analysis  best  computer  courses  data  important  in  is  most  of  one  \\\n",
            "0         0     0         1        1     1          1   1   1     1   1    1   \n",
            "1         0     1         0        1     1          0   0   1     0   1    1   \n",
            "2         1     0         0        0     2          0   0   0     0   0    0   \n",
            "\n",
            "   perform  science  scientists  the  this  \n",
            "0        0        2           0    1     0  \n",
            "1        0        1           0    1     1  \n",
            "2        1        0           1    1     0  \n",
            "\n",
            "Inverse Document Frequency (IDF) Matrix:\n",
            "   analysis      best  computer   courses      data  important        in  \\\n",
            "0  0.000000  0.000000  0.327476  0.249054  0.193412   0.327476  0.327476   \n",
            "1  0.000000  0.422968  0.000000  0.321678  0.249812   0.000000  0.000000   \n",
            "2  0.459115  0.000000  0.000000  0.000000  0.542321   0.000000  0.000000   \n",
            "\n",
            "         is      most        of       one   perform   science  scientists  \\\n",
            "0  0.249054  0.327476  0.249054  0.249054  0.000000  0.498107    0.000000   \n",
            "1  0.321678  0.000000  0.321678  0.321678  0.000000  0.321678    0.000000   \n",
            "2  0.000000  0.000000  0.000000  0.000000  0.459115  0.000000    0.459115   \n",
            "\n",
            "        the      this  \n",
            "0  0.193412  0.000000  \n",
            "1  0.249812  0.422968  \n",
            "2  0.271161  0.000000  \n",
            "\n",
            "TF-IDF Matrix:\n",
            "   analysis      best  computer   courses      data  important        in  \\\n",
            "0  0.000000  0.000000  0.327476  0.249054  0.193412   0.327476  0.327476   \n",
            "1  0.000000  0.422968  0.000000  0.321678  0.249812   0.000000  0.000000   \n",
            "2  0.459115  0.000000  0.000000  0.000000  0.542321   0.000000  0.000000   \n",
            "\n",
            "         is      most        of       one   perform   science  scientists  \\\n",
            "0  0.249054  0.327476  0.249054  0.249054  0.000000  0.498107    0.000000   \n",
            "1  0.321678  0.000000  0.321678  0.321678  0.000000  0.321678    0.000000   \n",
            "2  0.000000  0.000000  0.000000  0.000000  0.459115  0.000000    0.459115   \n",
            "\n",
            "        the      this  \n",
            "0  0.193412  0.000000  \n",
            "1  0.249812  0.422968  \n",
            "2  0.271161  0.000000  \n"
          ]
        }
      ],
      "source": [
        "\n",
        "# 11-12-2023\n",
        "# CSC461 – Assignment4 – NLP\n",
        "# Fatima Kazmi\n",
        "# SP20-BSE-060\n",
        "\n",
        "\n",
        "\n",
        "from sklearn.feature_extraction.text import CountVectorizer, TfidfVectorizer\n",
        "import pandas as pd\n",
        "\n",
        "# Define the sentences\n",
        "sentences = [\n",
        "    \"data science is one of the most important courses in computer science\",\n",
        "    \"this is one of the best data science courses\",\n",
        "    \"the data scientists perform data analysis\"\n",
        "]\n",
        "\n",
        "# Step 1: Bag of Words (BoW)\n",
        "vectorizer_bow = CountVectorizer()\n",
        "bow_matrix = vectorizer_bow.fit_transform(sentences)\n",
        "\n",
        "# Step 2: Term Frequency (TF)\n",
        "vectorizer_tf = CountVectorizer()\n",
        "tf_matrix = vectorizer_tf.fit_transform(sentences)\n",
        "\n",
        "# Step 3: Inverse Document Frequency (IDF)\n",
        "vectorizer_idf = TfidfVectorizer(use_idf=True)\n",
        "idf_matrix = vectorizer_idf.fit_transform(sentences)\n",
        "\n",
        "# Step 4: TF-IDF\n",
        "vectorizer_tfidf = TfidfVectorizer()\n",
        "tfidf_matrix = vectorizer_tfidf.fit_transform(sentences)\n",
        "\n",
        "# Get the feature names (terms)\n",
        "terms = vectorizer_bow.get_feature_names_out()\n",
        "\n",
        "# Convert the matrices to DataFrames for better visualization\n",
        "df_bow = pd.DataFrame(bow_matrix.toarray(), columns=terms)\n",
        "df_tf = pd.DataFrame(tf_matrix.toarray(), columns=terms)\n",
        "df_idf = pd.DataFrame(idf_matrix.toarray(), columns=terms)\n",
        "df_tfidf = pd.DataFrame(tfidf_matrix.toarray(), columns=terms)\n",
        "\n",
        "# Display the DataFrames\n",
        "print(\"Bag of Words (BoW) Matrix:\")\n",
        "print(df_bow)\n",
        "\n",
        "print(\"\\nTerm Frequency (TF) Matrix:\")\n",
        "print(df_tf)\n",
        "\n",
        "print(\"\\nInverse Document Frequency (IDF) Matrix:\")\n",
        "print(df_idf)\n",
        "\n",
        "print(\"\\nTF-IDF Matrix:\")\n",
        "print(df_tfidf)\n"
      ]
    },
    {
      "cell_type": "code",
      "execution_count": 2,
      "metadata": {
        "colab": {
          "base_uri": "https://localhost:8080/"
        },
        "id": "epSJcxHNDFUJ",
        "outputId": "31245793-649f-4167-e01c-d687f7291078"
      },
      "outputs": [
        {
          "name": "stdout",
          "output_type": "stream",
          "text": [
            "Cosine Similarity:\n",
            "[[1.         0.57732419 0.15733751]\n",
            " [0.57732419 1.         0.20321737]\n",
            " [0.15733751 0.20321737 1.        ]]\n",
            "\n",
            "Manhattan Distance:\n",
            "[[0.         2.73556468 4.60822682]\n",
            " [2.73556468 0.         4.14553005]\n",
            " [4.60822682 4.14553005 0.        ]]\n",
            "\n",
            "Euclidean Distance:\n",
            "[[0.         0.91943005 1.29820067]\n",
            " [0.91943005 0.         1.26236494]\n",
            " [1.29820067 1.26236494 0.        ]]\n"
          ]
        }
      ],
      "source": [
        "from sklearn.feature_extraction.text import TfidfVectorizer\n",
        "from sklearn.metrics.pairwise import cosine_similarity, manhattan_distances, euclidean_distances\n",
        "\n",
        "# Define the sentences\n",
        "sentences = [\n",
        "    \"data science is one of the most important courses in computer science\",\n",
        "    \"this is one of the best data science courses\",\n",
        "    \"the data scientists perform data analysis\"\n",
        "]\n",
        "\n",
        "# Create a TF-IDF vectorizer\n",
        "vectorizer = TfidfVectorizer()\n",
        "tfidf_matrix = vectorizer.fit_transform(sentences)\n",
        "\n",
        "# Compute cosine similarity\n",
        "cosine_sim = cosine_similarity(tfidf_matrix, tfidf_matrix)\n",
        "\n",
        "# Compute Manhattan distance\n",
        "manhattan_dist = manhattan_distances(tfidf_matrix)\n",
        "\n",
        "# Compute Euclidean distance\n",
        "euclidean_dist = euclidean_distances(tfidf_matrix)\n",
        "\n",
        "# Display the results\n",
        "print(\"Cosine Similarity:\")\n",
        "print(cosine_sim)\n",
        "print(\"\\nManhattan Distance:\")\n",
        "print(manhattan_dist)\n",
        "print(\"\\nEuclidean Distance:\")\n",
        "print(euclidean_dist)"
      ]
    }
  ],
  "metadata": {
    "colab": {
      "provenance": []
    },
    "kernelspec": {
      "display_name": "Python 3.12.0 64-bit",
      "language": "python",
      "name": "python3"
    },
    "language_info": {
      "name": "python",
      "version": "3.12.0"
    },
    "vscode": {
      "interpreter": {
        "hash": "3fcbd7240ee8f908d933dc7f71e8c42a1a91163b70ede8dcff5146d4087436c7"
      }
    }
  },
  "nbformat": 4,
  "nbformat_minor": 0
}
